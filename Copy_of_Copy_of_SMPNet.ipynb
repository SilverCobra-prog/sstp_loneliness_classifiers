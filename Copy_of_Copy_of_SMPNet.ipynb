{
  "nbformat": 4,
  "nbformat_minor": 0,
  "metadata": {
    "colab": {
      "provenance": [],
      "machine_shape": "hm"
    },
    "kernelspec": {
      "name": "python3",
      "display_name": "Python 3"
    },
    "language_info": {
      "name": "python"
    }
  },
  "cells": [
    {
      "cell_type": "code",
      "source": [
        "pip install transformers"
      ],
      "metadata": {
        "id": "bsGGXJJBfdnj",
        "colab": {
          "base_uri": "https://localhost:8080/"
        },
        "outputId": "b04eb35b-3c47-4509-d217-fb00803f47ab"
      },
      "execution_count": null,
      "outputs": [
        {
          "output_type": "stream",
          "name": "stdout",
          "text": [
            "Requirement already satisfied: transformers in /usr/local/lib/python3.10/dist-packages (4.31.0)\n",
            "Requirement already satisfied: filelock in /usr/local/lib/python3.10/dist-packages (from transformers) (3.12.2)\n",
            "Requirement already satisfied: huggingface-hub<1.0,>=0.14.1 in /usr/local/lib/python3.10/dist-packages (from transformers) (0.16.4)\n",
            "Requirement already satisfied: numpy>=1.17 in /usr/local/lib/python3.10/dist-packages (from transformers) (1.22.4)\n",
            "Requirement already satisfied: packaging>=20.0 in /usr/local/lib/python3.10/dist-packages (from transformers) (23.1)\n",
            "Requirement already satisfied: pyyaml>=5.1 in /usr/local/lib/python3.10/dist-packages (from transformers) (6.0.1)\n",
            "Requirement already satisfied: regex!=2019.12.17 in /usr/local/lib/python3.10/dist-packages (from transformers) (2022.10.31)\n",
            "Requirement already satisfied: requests in /usr/local/lib/python3.10/dist-packages (from transformers) (2.27.1)\n",
            "Requirement already satisfied: tokenizers!=0.11.3,<0.14,>=0.11.1 in /usr/local/lib/python3.10/dist-packages (from transformers) (0.13.3)\n",
            "Requirement already satisfied: safetensors>=0.3.1 in /usr/local/lib/python3.10/dist-packages (from transformers) (0.3.1)\n",
            "Requirement already satisfied: tqdm>=4.27 in /usr/local/lib/python3.10/dist-packages (from transformers) (4.65.0)\n",
            "Requirement already satisfied: fsspec in /usr/local/lib/python3.10/dist-packages (from huggingface-hub<1.0,>=0.14.1->transformers) (2023.6.0)\n",
            "Requirement already satisfied: typing-extensions>=3.7.4.3 in /usr/local/lib/python3.10/dist-packages (from huggingface-hub<1.0,>=0.14.1->transformers) (4.7.1)\n",
            "Requirement already satisfied: urllib3<1.27,>=1.21.1 in /usr/local/lib/python3.10/dist-packages (from requests->transformers) (1.26.16)\n",
            "Requirement already satisfied: certifi>=2017.4.17 in /usr/local/lib/python3.10/dist-packages (from requests->transformers) (2023.7.22)\n",
            "Requirement already satisfied: charset-normalizer~=2.0.0 in /usr/local/lib/python3.10/dist-packages (from requests->transformers) (2.0.12)\n",
            "Requirement already satisfied: idna<4,>=2.5 in /usr/local/lib/python3.10/dist-packages (from requests->transformers) (3.4)\n"
          ]
        }
      ]
    },
    {
      "cell_type": "code",
      "source": [
        "pip install SentencePiece"
      ],
      "metadata": {
        "id": "wPdW7kGZffdZ",
        "colab": {
          "base_uri": "https://localhost:8080/"
        },
        "outputId": "c915f9b8-c548-4d7e-e9d1-b59a79494855"
      },
      "execution_count": null,
      "outputs": [
        {
          "output_type": "stream",
          "name": "stdout",
          "text": [
            "Requirement already satisfied: SentencePiece in /usr/local/lib/python3.10/dist-packages (0.1.99)\n"
          ]
        }
      ]
    },
    {
      "cell_type": "code",
      "source": [
        "import pandas as pd\n",
        "import numpy as np\n",
        "from sklearn.decomposition import TruncatedSVD\n",
        "from sklearn.neural_network import MLPClassifier\n",
        "from sklearn.ensemble import VotingClassifier\n",
        "from sklearn.model_selection import train_test_split, GridSearchCV\n",
        "from sklearn.metrics import accuracy_score, f1_score, classification_report, precision_recall_fscore_support\n",
        "from sklearn.utils import resample\n",
        "from imblearn.over_sampling import SMOTE\n",
        "from transformers import RobertaTokenizer, RobertaModel\n",
        "import torch\n"
      ],
      "metadata": {
        "id": "YK1yvfBGA8l1"
      },
      "execution_count": null,
      "outputs": []
    },
    {
      "cell_type": "code",
      "execution_count": null,
      "metadata": {
        "id": "VjOWSBEGA2Hi"
      },
      "outputs": [],
      "source": [
        "url = 'https://drive.google.com/uc?id=12M_H4oziPEU5V0ee46wMbLvIPuEHj1HK'\n",
        "data = pd.read_csv(url)\n",
        "data = data.rename(columns={'human_label1': 'feelLonely'}).drop('human_label2', axis=1)\n",
        "X = data['text']\n",
        "y = data['feelLonely']"
      ]
    },
    {
      "cell_type": "code",
      "source": [
        "# Initialize the RoBERTa tokenizer\n",
        "tokenizer = RobertaTokenizer.from_pretrained('roberta-base')\n",
        "\n",
        "# Initialize the RoBERTa model\n",
        "model = RobertaModel.from_pretrained('roberta-base', output_hidden_states=True)\n",
        "\n",
        "X_embeddings = []\n",
        "\n",
        "max_length = 128\n",
        "\n",
        "for text in X:\n",
        "    inputs = tokenizer(text, return_tensors=\"pt\", padding=True, truncation=True, max_length=max_length)\n",
        "    input_ids = inputs.input_ids\n",
        "    attention_mask = inputs.attention_mask\n",
        "\n",
        "    with torch.no_grad():\n",
        "        outputs = model(input_ids=input_ids, attention_mask=attention_mask)\n",
        "\n",
        "    embeddings = outputs.hidden_states[-1].detach().numpy()\n",
        "    X_embeddings.append(embeddings.mean(axis=1))\n",
        "\n",
        "X_embeddings = np.vstack(X_embeddings)\n",
        "\n",
        "# Apply Latent Semantic Analysis (LSA) for dimensionality reduction\n",
        "n_components = 100  # Adjust the number of components as needed\n",
        "lsa = TruncatedSVD(n_components=n_components, random_state=42)\n",
        "X_lsa = lsa.fit_transform(X_embeddings)  # Corrected variable name\n",
        "\n",
        "# Data Augmentation using SMOTE\n",
        "smote = SMOTE(random_state=42)\n",
        "X_augmented, y_augmented = smote.fit_resample(X_lsa, y)\n",
        "\n",
        "# Split the augmented data into training and testing sets\n",
        "X_train, X_test, y_train, y_test = train_test_split(X_augmented, y_augmented, test_size=0.2, random_state=42)"
      ],
      "metadata": {
        "id": "aQqMo9iPBHce",
        "colab": {
          "base_uri": "https://localhost:8080/"
        },
        "outputId": "2f530dbb-c083-4ec9-dbf0-f569f67a7c05"
      },
      "execution_count": null,
      "outputs": [
        {
          "output_type": "stream",
          "name": "stderr",
          "text": [
            "Some weights of RobertaModel were not initialized from the model checkpoint at roberta-base and are newly initialized: ['roberta.pooler.dense.weight', 'roberta.pooler.dense.bias']\n",
            "You should probably TRAIN this model on a down-stream task to be able to use it for predictions and inference.\n"
          ]
        }
      ]
    },
    {
      "cell_type": "code",
      "source": [
        "param_grid = {\n",
        "    'hidden_layer_sizes': [(100,), (200,), (100, 50), (150, 75)],\n",
        "    'alpha': [0.0001, 0.001, 0.01],\n",
        "}\n",
        "\n",
        "mlp_classifier = MLPClassifier(max_iter=500, random_state=42)\n",
        "\n",
        "grid_search = GridSearchCV(mlp_classifier, param_grid, cv=3)\n",
        "grid_search.fit(X_train, y_train)\n",
        "\n",
        "best_hidden_layer_sizes = grid_search.best_params_['hidden_layer_sizes']\n",
        "best_alpha = grid_search.best_params_['alpha']\n",
        "\n",
        "mlp_classifier = MLPClassifier(hidden_layer_sizes=best_hidden_layer_sizes, alpha=best_alpha, max_iter=500, random_state=42)\n",
        "\n",
        "voting_classifier = VotingClassifier(estimators=[('mlp', mlp_classifier)], voting='hard')\n",
        "\n",
        "voting_classifier.fit(X_train, y_train)\n",
        "\n",
        "y_pred = voting_classifier.predict(X_test)\n",
        "\n",
        "accuracy = accuracy_score(y_test, y_pred)\n",
        "f1 = f1_score(y_test, y_pred)\n",
        "precision, recall, _, _ = precision_recall_fscore_support(y_test, y_pred)\n",
        "\n",
        "print(\"Test Set Accuracy:\", accuracy)\n",
        "print(\"Test Set F1 Score:\", f1)\n",
        "print(\"Test Set Precision:\", precision[1])\n",
        "print(\"Test Set Recall:\", recall[1])\n",
        "print(\"Classification Report:\\n\", classification_report(y_test, y_pred))\n"
      ],
      "metadata": {
        "id": "xt7o1HWIR5_I",
        "colab": {
          "base_uri": "https://localhost:8080/"
        },
        "outputId": "4329c572-deb9-42cb-d19b-784f35bb3cbe"
      },
      "execution_count": null,
      "outputs": [
        {
          "output_type": "stream",
          "name": "stderr",
          "text": [
            "/usr/local/lib/python3.10/dist-packages/sklearn/neural_network/_multilayer_perceptron.py:686: ConvergenceWarning: Stochastic Optimizer: Maximum iterations (500) reached and the optimization hasn't converged yet.\n",
            "  warnings.warn(\n",
            "/usr/local/lib/python3.10/dist-packages/sklearn/neural_network/_multilayer_perceptron.py:686: ConvergenceWarning: Stochastic Optimizer: Maximum iterations (500) reached and the optimization hasn't converged yet.\n",
            "  warnings.warn(\n",
            "/usr/local/lib/python3.10/dist-packages/sklearn/neural_network/_multilayer_perceptron.py:686: ConvergenceWarning: Stochastic Optimizer: Maximum iterations (500) reached and the optimization hasn't converged yet.\n",
            "  warnings.warn(\n",
            "/usr/local/lib/python3.10/dist-packages/sklearn/neural_network/_multilayer_perceptron.py:686: ConvergenceWarning: Stochastic Optimizer: Maximum iterations (500) reached and the optimization hasn't converged yet.\n",
            "  warnings.warn(\n",
            "/usr/local/lib/python3.10/dist-packages/sklearn/neural_network/_multilayer_perceptron.py:686: ConvergenceWarning: Stochastic Optimizer: Maximum iterations (500) reached and the optimization hasn't converged yet.\n",
            "  warnings.warn(\n",
            "/usr/local/lib/python3.10/dist-packages/sklearn/neural_network/_multilayer_perceptron.py:686: ConvergenceWarning: Stochastic Optimizer: Maximum iterations (500) reached and the optimization hasn't converged yet.\n",
            "  warnings.warn(\n",
            "/usr/local/lib/python3.10/dist-packages/sklearn/neural_network/_multilayer_perceptron.py:686: ConvergenceWarning: Stochastic Optimizer: Maximum iterations (500) reached and the optimization hasn't converged yet.\n",
            "  warnings.warn(\n",
            "/usr/local/lib/python3.10/dist-packages/sklearn/neural_network/_multilayer_perceptron.py:686: ConvergenceWarning: Stochastic Optimizer: Maximum iterations (500) reached and the optimization hasn't converged yet.\n",
            "  warnings.warn(\n",
            "/usr/local/lib/python3.10/dist-packages/sklearn/neural_network/_multilayer_perceptron.py:686: ConvergenceWarning: Stochastic Optimizer: Maximum iterations (500) reached and the optimization hasn't converged yet.\n",
            "  warnings.warn(\n",
            "/usr/local/lib/python3.10/dist-packages/sklearn/neural_network/_multilayer_perceptron.py:686: ConvergenceWarning: Stochastic Optimizer: Maximum iterations (500) reached and the optimization hasn't converged yet.\n",
            "  warnings.warn(\n",
            "/usr/local/lib/python3.10/dist-packages/sklearn/neural_network/_multilayer_perceptron.py:686: ConvergenceWarning: Stochastic Optimizer: Maximum iterations (500) reached and the optimization hasn't converged yet.\n",
            "  warnings.warn(\n",
            "/usr/local/lib/python3.10/dist-packages/sklearn/neural_network/_multilayer_perceptron.py:686: ConvergenceWarning: Stochastic Optimizer: Maximum iterations (500) reached and the optimization hasn't converged yet.\n",
            "  warnings.warn(\n",
            "/usr/local/lib/python3.10/dist-packages/sklearn/neural_network/_multilayer_perceptron.py:686: ConvergenceWarning: Stochastic Optimizer: Maximum iterations (500) reached and the optimization hasn't converged yet.\n",
            "  warnings.warn(\n"
          ]
        },
        {
          "output_type": "stream",
          "name": "stdout",
          "text": [
            "Test Set Accuracy: 0.8361650485436893\n",
            "Test Set F1 Score: 0.8371531966224367\n",
            "Test Set Precision: 0.8164705882352942\n",
            "Test Set Recall: 0.8589108910891089\n",
            "Classification Report:\n",
            "               precision    recall  f1-score   support\n",
            "\n",
            "         0.0       0.86      0.81      0.84       840\n",
            "         1.0       0.82      0.86      0.84       808\n",
            "\n",
            "    accuracy                           0.84      1648\n",
            "   macro avg       0.84      0.84      0.84      1648\n",
            "weighted avg       0.84      0.84      0.84      1648\n",
            "\n"
          ]
        }
      ]
    }
  ]
}